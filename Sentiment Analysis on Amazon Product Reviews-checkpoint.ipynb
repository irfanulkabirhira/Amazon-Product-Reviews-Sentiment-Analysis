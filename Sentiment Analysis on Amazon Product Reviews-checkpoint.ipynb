{
 "cells": [
  {
   "cell_type": "markdown",
   "id": "4651dd8e",
   "metadata": {},
   "source": [
    "# Sentiment Analysis on Amazon Product Reviews"
   ]
  },
  {
   "cell_type": "markdown",
   "id": "abaf52db",
   "metadata": {},
   "source": [
    "## 1. Dataset Overview\n",
    "- **Dataset Description**:\n",
    "  - Analyze an Amazon product review dataset containing textual reviews (`reviewText`) and corresponding sentiment labels (`Positive`).\n",
    "  - Sentiment is binary: 1 for positive, 0 for negative.\n",
    "- **Objective**:\n",
    "  - Predict the sentiment of a product review based on its textual content.\n"
   ]
  },
  {
   "cell_type": "code",
   "execution_count": 1,
   "id": "aec67bef",
   "metadata": {},
   "outputs": [],
   "source": [
    "import pandas as pd"
   ]
  },
  {
   "cell_type": "code",
   "execution_count": 2,
   "id": "c92730c6",
   "metadata": {},
   "outputs": [
    {
     "data": {
      "text/html": [
       "<div>\n",
       "<style scoped>\n",
       "    .dataframe tbody tr th:only-of-type {\n",
       "        vertical-align: middle;\n",
       "    }\n",
       "\n",
       "    .dataframe tbody tr th {\n",
       "        vertical-align: top;\n",
       "    }\n",
       "\n",
       "    .dataframe thead th {\n",
       "        text-align: right;\n",
       "    }\n",
       "</style>\n",
       "<table border=\"1\" class=\"dataframe\">\n",
       "  <thead>\n",
       "    <tr style=\"text-align: right;\">\n",
       "      <th></th>\n",
       "      <th>reviewText</th>\n",
       "      <th>Positive</th>\n",
       "    </tr>\n",
       "  </thead>\n",
       "  <tbody>\n",
       "    <tr>\n",
       "      <th>0</th>\n",
       "      <td>This is a one of the best apps acording to a b...</td>\n",
       "      <td>1</td>\n",
       "    </tr>\n",
       "    <tr>\n",
       "      <th>1</th>\n",
       "      <td>This is a pretty good version of the game for ...</td>\n",
       "      <td>1</td>\n",
       "    </tr>\n",
       "    <tr>\n",
       "      <th>2</th>\n",
       "      <td>this is a really cool game. there are a bunch ...</td>\n",
       "      <td>1</td>\n",
       "    </tr>\n",
       "    <tr>\n",
       "      <th>3</th>\n",
       "      <td>This is a silly game and can be frustrating, b...</td>\n",
       "      <td>1</td>\n",
       "    </tr>\n",
       "    <tr>\n",
       "      <th>4</th>\n",
       "      <td>This is a terrific game on any pad. Hrs of fun...</td>\n",
       "      <td>1</td>\n",
       "    </tr>\n",
       "  </tbody>\n",
       "</table>\n",
       "</div>"
      ],
      "text/plain": [
       "                                          reviewText  Positive\n",
       "0  This is a one of the best apps acording to a b...         1\n",
       "1  This is a pretty good version of the game for ...         1\n",
       "2  this is a really cool game. there are a bunch ...         1\n",
       "3  This is a silly game and can be frustrating, b...         1\n",
       "4  This is a terrific game on any pad. Hrs of fun...         1"
      ]
     },
     "execution_count": 2,
     "metadata": {},
     "output_type": "execute_result"
    }
   ],
   "source": [
    "# url = 'https://raw.githubusercontent.com/rashakil-ds/Public-Datasets/refs/heads/main/amazon.csv'\n",
    "df = pd.read_csv('amazon.csv')\n",
    "df.head()"
   ]
  },
  {
   "cell_type": "markdown",
   "id": "da27b7a2",
   "metadata": {},
   "source": [
    "## 2. Data Preprocessing\n",
    "- Handle missing values, if any.\n",
    "- Perform text preprocessing on the `reviewText` column:\n",
    "  - Convert text to lowercase.\n",
    "  - Remove stop words, punctuation, and special characters.\n",
    "  - Tokenize and lemmatize text data.\n",
    "- Split the dataset into training and testing sets.\n"
   ]
  },
  {
   "cell_type": "markdown",
   "id": "65e73dd7-e5a4-4258-9be2-a34a6ce54642",
   "metadata": {},
   "source": [
    "## < Handle Missing Value >>"
   ]
  },
  {
   "cell_type": "code",
   "execution_count": 3,
   "id": "86e83cb1",
   "metadata": {},
   "outputs": [
    {
     "name": "stdout",
     "output_type": "stream",
     "text": [
      "Missing values per column:\n",
      " reviewText    0\n",
      "Positive      0\n",
      "dtype: int64\n",
      "\n",
      "Missing values after dropping:\n",
      " reviewText    0\n",
      "Positive      0\n",
      "dtype: int64\n"
     ]
    }
   ],
   "source": [
    "# Check for missing values\n",
    "print(\"Missing values per column:\\n\", df.isnull().sum())\n",
    "\n",
    "# Drop rows with missing values\n",
    "df.dropna(inplace=True)\n",
    "\n",
    "# Confirm that there are no more missing values\n",
    "print(\"\\nMissing values after dropping:\\n\", df.isnull().sum())"
   ]
  },
  {
   "cell_type": "markdown",
   "id": "05f010a6-f56b-4677-8f26-73097d1851ce",
   "metadata": {},
   "source": [
    "## < Text Preprocessing >"
   ]
  },
  {
   "cell_type": "raw",
   "id": "9052aa41-d691-4208-8300-0e946f6c8a35",
   "metadata": {},
   "source": [
    " Let's move to Text Preprocessing. This step involves cleaning the reviewText column. Here's what we’ll do:\n",
    "\n",
    "    ->Convert text to lowercase.\n",
    "    ->Remove stop words, punctuation, and special characters.\n",
    "    ->Tokenize the text (split it into words).\n",
    "    ->Lemmatize words to reduce them to their base form.\n",
    "\n",
    "Explanation : \n",
    "->Lowercase Conversion: Ensures text is case-insensitive.\n",
    "->Remove Punctuation/Special Characters: Simplifies the text by keeping only alphabets and spaces.\n",
    "->Tokenization: Splits sentences into individual words for further processing.\n",
    "->Stop Words Removal: Filters out common words like \"the\", \"is\", \"and\" that don't contribute to sentiment.\n",
    "->Lemmatization: Reduces words to their base form (e.g., \"running\" → \"run\")."
   ]
  },
  {
   "cell_type": "code",
   "execution_count": 4,
   "id": "0d3f2970-9cee-4095-a554-0cc34510ff1e",
   "metadata": {},
   "outputs": [],
   "source": [
    "import warnings\n",
    "warnings.filterwarnings('ignore')"
   ]
  },
  {
   "cell_type": "code",
   "execution_count": 5,
   "id": "4e9d6377-bf28-4211-b88e-1503fcac5d2f",
   "metadata": {},
   "outputs": [
    {
     "name": "stderr",
     "output_type": "stream",
     "text": [
      "[nltk_data] Downloading package punkt to\n",
      "[nltk_data]     C:\\Users\\hirak\\AppData\\Roaming\\nltk_data...\n",
      "[nltk_data]   Package punkt is already up-to-date!\n",
      "[nltk_data] Downloading package stopwords to\n",
      "[nltk_data]     C:\\Users\\hirak\\AppData\\Roaming\\nltk_data...\n",
      "[nltk_data]   Package stopwords is already up-to-date!\n",
      "[nltk_data] Downloading package wordnet to\n",
      "[nltk_data]     C:\\Users\\hirak\\AppData\\Roaming\\nltk_data...\n",
      "[nltk_data]   Package wordnet is already up-to-date!\n"
     ]
    },
    {
     "data": {
      "text/html": [
       "<div>\n",
       "<style scoped>\n",
       "    .dataframe tbody tr th:only-of-type {\n",
       "        vertical-align: middle;\n",
       "    }\n",
       "\n",
       "    .dataframe tbody tr th {\n",
       "        vertical-align: top;\n",
       "    }\n",
       "\n",
       "    .dataframe thead th {\n",
       "        text-align: right;\n",
       "    }\n",
       "</style>\n",
       "<table border=\"1\" class=\"dataframe\">\n",
       "  <thead>\n",
       "    <tr style=\"text-align: right;\">\n",
       "      <th></th>\n",
       "      <th>reviewText</th>\n",
       "      <th>cleaned_text</th>\n",
       "    </tr>\n",
       "  </thead>\n",
       "  <tbody>\n",
       "    <tr>\n",
       "      <th>0</th>\n",
       "      <td>This is a one of the best apps acording to a b...</td>\n",
       "      <td>one best apps acording bunch people agree bomb...</td>\n",
       "    </tr>\n",
       "    <tr>\n",
       "      <th>1</th>\n",
       "      <td>This is a pretty good version of the game for ...</td>\n",
       "      <td>pretty good version game free lot different le...</td>\n",
       "    </tr>\n",
       "    <tr>\n",
       "      <th>2</th>\n",
       "      <td>this is a really cool game. there are a bunch ...</td>\n",
       "      <td>really cool game bunch level find golden egg s...</td>\n",
       "    </tr>\n",
       "    <tr>\n",
       "      <th>3</th>\n",
       "      <td>This is a silly game and can be frustrating, b...</td>\n",
       "      <td>silly game frustrating lot fun definitely reco...</td>\n",
       "    </tr>\n",
       "    <tr>\n",
       "      <th>4</th>\n",
       "      <td>This is a terrific game on any pad. Hrs of fun...</td>\n",
       "      <td>terrific game pad hr fun grandkids love great ...</td>\n",
       "    </tr>\n",
       "  </tbody>\n",
       "</table>\n",
       "</div>"
      ],
      "text/plain": [
       "                                          reviewText  \\\n",
       "0  This is a one of the best apps acording to a b...   \n",
       "1  This is a pretty good version of the game for ...   \n",
       "2  this is a really cool game. there are a bunch ...   \n",
       "3  This is a silly game and can be frustrating, b...   \n",
       "4  This is a terrific game on any pad. Hrs of fun...   \n",
       "\n",
       "                                        cleaned_text  \n",
       "0  one best apps acording bunch people agree bomb...  \n",
       "1  pretty good version game free lot different le...  \n",
       "2  really cool game bunch level find golden egg s...  \n",
       "3  silly game frustrating lot fun definitely reco...  \n",
       "4  terrific game pad hr fun grandkids love great ...  "
      ]
     },
     "execution_count": 5,
     "metadata": {},
     "output_type": "execute_result"
    }
   ],
   "source": [
    "import nltk\n",
    "import re\n",
    "from nltk.corpus import stopwords\n",
    "from nltk.tokenize import word_tokenize\n",
    "from nltk.stem import WordNetLemmatizer\n",
    "\n",
    "# Download NLTK resources (run this only once)\n",
    "nltk.download('punkt')\n",
    "nltk.download('stopwords')\n",
    "nltk.download('wordnet')\n",
    "\n",
    "# Initialize the lemmatizer and stopwords\n",
    "lemmatizer = WordNetLemmatizer()\n",
    "stop_words = set(stopwords.words('english'))\n",
    "\n",
    "# Function for text preprocessing\n",
    "def preprocess_text(text):\n",
    "    # Convert to lowercase\n",
    "    text = text.lower()\n",
    "    # Remove punctuation and special characters\n",
    "    text = re.sub(r'[^a-zA-Z\\s]', '', text)\n",
    "    # Tokenize text\n",
    "    words = word_tokenize(text)\n",
    "    # Remove stop words and lemmatize words\n",
    "    words = [lemmatizer.lemmatize(word) for word in words if word not in stop_words]\n",
    "    return ' '.join(words)\n",
    "\n",
    "# Apply preprocessing to the 'reviewText' column\n",
    "df['cleaned_text'] = df['reviewText'].apply(preprocess_text)\n",
    "\n",
    "# Display the first few rows of the cleaned data\n",
    "df[['reviewText', 'cleaned_text']].head()"
   ]
  },
  {
   "cell_type": "markdown",
   "id": "14951296-0735-4c88-9708-e272a69879c3",
   "metadata": {},
   "source": [
    "## < Splitting the Dataset >"
   ]
  },
  {
   "cell_type": "raw",
   "id": "094a515d-da12-4161-9941-de9d6017fddc",
   "metadata": {},
   "source": [
    "->Use cleaned_text as the input (features) and Positive as the target (labels).\n",
    "->Split the data into 80% training and 20% testing sets.\n",
    "\n",
    "Explanation\n",
    "->train_test_split: Splits the dataset into training and testing sets.\n",
    "->test_size=0.2: Reserves 20% of the data for testing.->\n",
    "->random_state=42: Ensures reproducibility of the split.\n",
    "->X_train and X_test: Contain the cleaned text data for training and testing.\n",
    "->y_train and y_test: Contain the corresponding sentiment labels."
   ]
  },
  {
   "cell_type": "code",
   "execution_count": 6,
   "id": "25059014-98d3-4e7a-bc99-01be4053c342",
   "metadata": {},
   "outputs": [
    {
     "name": "stdout",
     "output_type": "stream",
     "text": [
      "Training set size: 16000\n",
      "Testing set size: 4000\n"
     ]
    }
   ],
   "source": [
    "from sklearn.model_selection import train_test_split\n",
    "\n",
    "# Define features (X) and target (y)\n",
    "X = df['cleaned_text']\n",
    "y = df['Positive']\n",
    "\n",
    "# Split the dataset into training and testing sets\n",
    "X_train, X_test, y_train, y_test = train_test_split(X, y, test_size=0.2, random_state=42)\n",
    "\n",
    "# Check the sizes of the splits\n",
    "print(f\"Training set size: {len(X_train)}\")\n",
    "print(f\"Testing set size: {len(X_test)}\")"
   ]
  },
  {
   "cell_type": "markdown",
   "id": "bb042bc0-e123-4d7c-b271-e6bee24f8fa8",
   "metadata": {},
   "source": [
    "## < TF-IDF Vectorization >\n",
    "#### First, we need to transform the text data into numerical form for the models to process."
   ]
  },
  {
   "cell_type": "code",
   "execution_count": 7,
   "id": "98f0f254-db42-465d-9c75-c48c69466c52",
   "metadata": {},
   "outputs": [
    {
     "name": "stdout",
     "output_type": "stream",
     "text": [
      "TF-IDF training data shape: (16000, 5000)\n",
      "TF-IDF testing data shape: (4000, 5000)\n"
     ]
    }
   ],
   "source": [
    "from sklearn.feature_extraction.text import TfidfVectorizer\n",
    "\n",
    "# Initialize the TF-IDF vectorizer\n",
    "tfidf = TfidfVectorizer(max_features=5000)  # Use the top 5000 features\n",
    "\n",
    "# Transform the training and testing data\n",
    "X_train_tfidf = tfidf.fit_transform(X_train).toarray()\n",
    "X_test_tfidf = tfidf.transform(X_test).toarray()\n",
    "\n",
    "# Check the shape of the transformed data\n",
    "print(f\"TF-IDF training data shape: {X_train_tfidf.shape}\")\n",
    "print(f\"TF-IDF testing data shape: {X_test_tfidf.shape}\")"
   ]
  },
  {
   "cell_type": "markdown",
   "id": "ec98fa4a",
   "metadata": {},
   "source": [
    "## 3. Model Selection\n",
    "- Choose at least three machine learning models for sentiment classification:\n",
    "  - Statistical Models:\n",
    "    - Logistic Regression\n",
    "    - Random Forest\n",
    "    - Support Vector Machine (SVM)\n",
    "    - Naïve Bayes\n",
    "    - Gradient Boosting (e.g., XGBoost, AdaBoost, CatBoost)\n",
    "  - Neural Models:\n",
    "    - LSTM (Long Short-Term Memory)\n",
    "    - GRUs (Gated Recurrent Units)\n"
   ]
  },
  {
   "cell_type": "code",
   "execution_count": 8,
   "id": "8c8dca88-af45-4000-a2f3-522f154795e1",
   "metadata": {},
   "outputs": [
    {
     "name": "stdout",
     "output_type": "stream",
     "text": [
      "Logistic Regression: LogisticRegression(max_iter=1000, random_state=42)\n",
      "Random Forest: RandomForestClassifier(random_state=42)\n",
      "SVM: LinearSVC(random_state=42)\n",
      "Naïve Bayes: MultinomialNB()\n",
      "XGBoost: XGBClassifier(base_score=None, booster=None, callbacks=None,\n",
      "              colsample_bylevel=None, colsample_bynode=None,\n",
      "              colsample_bytree=None, device=None, early_stopping_rounds=None,\n",
      "              enable_categorical=False, eval_metric='logloss',\n",
      "              feature_types=None, gamma=None, grow_policy=None,\n",
      "              importance_type=None, interaction_constraints=None,\n",
      "              learning_rate=None, max_bin=None, max_cat_threshold=None,\n",
      "              max_cat_to_onehot=None, max_delta_step=None, max_depth=None,\n",
      "              max_leaves=None, min_child_weight=None, missing=nan,\n",
      "              monotone_constraints=None, multi_strategy=None, n_estimators=None,\n",
      "              n_jobs=None, num_parallel_tree=None, random_state=42, ...)\n"
     ]
    }
   ],
   "source": [
    "# Import necessary libraries\n",
    "from sklearn.linear_model import LogisticRegression\n",
    "from sklearn.ensemble import RandomForestClassifier\n",
    "from sklearn.svm import LinearSVC\n",
    "from sklearn.naive_bayes import MultinomialNB\n",
    "from xgboost import XGBClassifier\n",
    "\n",
    "# Initialize Models\n",
    "models = {\n",
    "    \"Logistic Regression\": LogisticRegression(max_iter=1000, random_state=42),\n",
    "    \"Random Forest\": RandomForestClassifier(n_estimators=100, random_state=42),\n",
    "    \"SVM\": LinearSVC(random_state=42),\n",
    "    \"Naïve Bayes\": MultinomialNB(),\n",
    "    \"XGBoost\": XGBClassifier(use_label_encoder=False, eval_metric='logloss', random_state=42)\n",
    "}\n",
    "\n",
    "# Display the initialized models\n",
    "for model_name, model in models.items():\n",
    "    print(f\"{model_name}: {model}\")\n"
   ]
  },
  {
   "cell_type": "markdown",
   "id": "f4034734-36b6-4987-bc92-6ea25f5a4b32",
   "metadata": {},
   "source": [
    "## 4. Model Training\n",
    "- Train each selected model on the training dataset.\n",
    "- Utilize vectorization techniques for text data:\n",
    "  - TF-IDF (Term Frequency-Inverse Document Frequency)\n",
    "  - Word embeddings (e.g., Word2Vec, GloVe)"
   ]
  },
  {
   "cell_type": "code",
   "execution_count": 9,
   "id": "41a22055-1e76-4220-ae77-098d4956b8c7",
   "metadata": {},
   "outputs": [
    {
     "name": "stdout",
     "output_type": "stream",
     "text": [
      "Columns in the dataset: Index(['reviewText', 'Positive', 'cleaned_text'], dtype='object')\n",
      "Required columns 'cleanedText' and/or 'Positive' not found in the dataset.\n"
     ]
    }
   ],
   "source": [
    "import pandas as pd\n",
    "from sklearn.model_selection import train_test_split\n",
    "from sklearn.feature_extraction.text import TfidfVectorizer\n",
    "\n",
    "\n",
    "# Validate column names\n",
    "print(\"Columns in the dataset:\", df.columns)\n",
    "\n",
    "# Ensure the required columns exist\n",
    "if 'cleanedText' in df.columns and 'Positive' in df.columns:\n",
    "    # Train-Test Split\n",
    "    X = df['cleanedText']\n",
    "    y = df['Positive']\n",
    "    X_train, X_test, y_train, y_test = train_test_split(X, y, test_size=0.2, random_state=42)\n",
    "\n",
    "    # TF-IDF Vectorization\n",
    "    tfidf = TfidfVectorizer(max_features=5000)\n",
    "    X_train_tfidf = tfidf.fit_transform(X_train)\n",
    "    X_test_tfidf = tfidf.transform(X_test)\n",
    "\n",
    "    print(\"Data prepared successfully!\")\n",
    "else:\n",
    "    print(\"Required columns 'cleanedText' and/or 'Positive' not found in the dataset.\")\n"
   ]
  },
  {
   "cell_type": "code",
   "execution_count": 10,
   "id": "155c3732-6055-4320-adea-4c18944c3cd5",
   "metadata": {},
   "outputs": [
    {
     "name": "stdout",
     "output_type": "stream",
     "text": [
      "\n",
      "Training Logistic Regression...\n",
      "\n",
      "Training Random Forest...\n",
      "\n",
      "Training SVM...\n",
      "\n",
      "Training Naïve Bayes...\n",
      "\n",
      "Training XGBoost...\n",
      "\n",
      "All models trained successfully!\n"
     ]
    }
   ],
   "source": [
    "# Train models\n",
    "trained_models = {}\n",
    "for name, model in models.items():\n",
    "    print(f\"\\nTraining {name}...\")\n",
    "    model.fit(X_train_tfidf, y_train)  # Train the model on the training set\n",
    "    trained_models[name] = model\n",
    "print(\"\\nAll models trained successfully!\")\n"
   ]
  },
  {
   "cell_type": "markdown",
   "id": "4e786192-77bc-4bc6-92aa-761113892611",
   "metadata": {},
   "source": [
    "## 5. Formal Evaluation\n",
    "- Evaluate the performance of each model on the testing set using the following metrics:\n",
    "  - Accuracy\n",
    "  - Precision\n",
    "  - Recall\n",
    "  - F1 Score\n",
    "  - Confusion Matrix"
   ]
  },
  {
   "cell_type": "raw",
   "id": "0ce635a4-4c2c-42b2-98eb-0d0838826940",
   "metadata": {},
   "source": [
    "->Now that we have fine-tuned Logistic Regression and Random Forest models, the next step is to evaluate their performance using the following metrics on the test set:\n",
    "\n",
    "    Accuracy\n",
    "    Precision\n",
    "    Recall\n",
    "    F1 Score\n",
    "    Confusion Matrix\n",
    "\n",
    "Additionally, we can compare these models to identify their strengths and weaknesses."
   ]
  },
  {
   "cell_type": "code",
   "execution_count": 13,
   "id": "d07a6f11-ca68-4cff-8812-32894f929d8d",
   "metadata": {
    "scrolled": true
   },
   "outputs": [
    {
     "name": "stdout",
     "output_type": "stream",
     "text": [
      "\n",
      "Logistic Regression Accuracy: 0.89\n",
      "Logistic Regression Classification Report:\n",
      "               precision    recall  f1-score   support\n",
      "\n",
      "           0       0.85      0.65      0.74       958\n",
      "           1       0.90      0.96      0.93      3042\n",
      "\n",
      "    accuracy                           0.89      4000\n",
      "   macro avg       0.87      0.81      0.83      4000\n",
      "weighted avg       0.89      0.89      0.88      4000\n",
      "\n",
      "\n",
      "Random Forest Accuracy: 0.87\n",
      "Random Forest Classification Report:\n",
      "               precision    recall  f1-score   support\n",
      "\n",
      "           0       0.84      0.57      0.68       958\n",
      "           1       0.88      0.96      0.92      3042\n",
      "\n",
      "    accuracy                           0.87      4000\n",
      "   macro avg       0.86      0.77      0.80      4000\n",
      "weighted avg       0.87      0.87      0.86      4000\n",
      "\n",
      "\n",
      "SVM Accuracy: 0.89\n",
      "SVM Classification Report:\n",
      "               precision    recall  f1-score   support\n",
      "\n",
      "           0       0.79      0.72      0.75       958\n",
      "           1       0.91      0.94      0.93      3042\n",
      "\n",
      "    accuracy                           0.89      4000\n",
      "   macro avg       0.85      0.83      0.84      4000\n",
      "weighted avg       0.88      0.89      0.88      4000\n",
      "\n",
      "\n",
      "Naïve Bayes Accuracy: 0.85\n",
      "Naïve Bayes Classification Report:\n",
      "               precision    recall  f1-score   support\n",
      "\n",
      "           0       0.90      0.43      0.58       958\n",
      "           1       0.85      0.99      0.91      3042\n",
      "\n",
      "    accuracy                           0.85      4000\n",
      "   macro avg       0.87      0.71      0.75      4000\n",
      "weighted avg       0.86      0.85      0.83      4000\n",
      "\n",
      "\n",
      "XGBoost Accuracy: 0.87\n",
      "XGBoost Classification Report:\n",
      "               precision    recall  f1-score   support\n",
      "\n",
      "           0       0.82      0.61      0.70       958\n",
      "           1       0.89      0.96      0.92      3042\n",
      "\n",
      "    accuracy                           0.87      4000\n",
      "   macro avg       0.85      0.78      0.81      4000\n",
      "weighted avg       0.87      0.87      0.87      4000\n",
      "\n"
     ]
    }
   ],
   "source": [
    "from sklearn.metrics import accuracy_score, classification_report\n",
    "\n",
    "# Evaluate each model\n",
    "for name, model in trained_models.items():\n",
    "    y_pred = model.predict(X_test_tfidf)  # Make predictions on the test set\n",
    "    accuracy = accuracy_score(y_test, y_pred)\n",
    "    print(f\"\\n{name} Accuracy: {accuracy:.2f}\")\n",
    "    print(f\"{name} Classification Report:\\n\", classification_report(y_test, y_pred))\n"
   ]
  },
  {
   "cell_type": "markdown",
   "id": "63e4b667-49fb-48f9-8f2a-62835427d509",
   "metadata": {},
   "source": [
    "## 6. Hyperparameter Tuning\n",
    "- Perform hyperparameter tuning for selected models using:\n",
    "  - Grid Search\n",
    "  - Random Search\n",
    "- Explain the chosen hyperparameters and justify their selection."
   ]
  },
  {
   "cell_type": "code",
   "execution_count": 14,
   "id": "73917770-8240-41f7-9382-bf5d7686ec21",
   "metadata": {},
   "outputs": [
    {
     "name": "stdout",
     "output_type": "stream",
     "text": [
      "Fitting 3 folds for each of 3 candidates, totalling 9 fits\n",
      "Best Logistic Regression Parameters (Grid Search): {'C': 10, 'solver': 'liblinear'}\n",
      "Best Logistic Regression Accuracy (Grid Search): 0.8926248507329607\n",
      "Fitting 3 folds for each of 10 candidates, totalling 30 fits\n",
      "\n",
      "Best Random Forest Parameters (Random Search): {'n_estimators': 50, 'min_samples_split': 5, 'min_samples_leaf': 2, 'max_depth': 20}\n",
      "Best Random Forest Accuracy (Random Search): 0.780500259987659\n"
     ]
    }
   ],
   "source": [
    "from sklearn.model_selection import GridSearchCV, RandomizedSearchCV\n",
    "\n",
    "# Hyperparameter tuning for Logistic Regression (Optimized)\n",
    "lr_params = {\n",
    "    'C': [0.1, 1, 10],  # Reduced range of regularization strength\n",
    "    'solver': ['liblinear']  # Use only one solver to reduce training time\n",
    "}\n",
    "\n",
    "# Initialize Grid Search for Logistic Regression with fewer parameters and folds\n",
    "lr_grid = GridSearchCV(\n",
    "    LogisticRegression(max_iter=500, random_state=42),  # Reduced max_iter\n",
    "    param_grid=lr_params,\n",
    "    cv=3,  # Reduced cross-validation folds\n",
    "    scoring='accuracy',\n",
    "    verbose=1  # Display progress\n",
    ")\n",
    "lr_grid.fit(X_train_tfidf, y_train)\n",
    "\n",
    "print(\"Best Logistic Regression Parameters (Grid Search):\", lr_grid.best_params_)\n",
    "print(\"Best Logistic Regression Accuracy (Grid Search):\", lr_grid.best_score_)\n",
    "\n",
    "# Hyperparameter tuning for Random Forest (Optimized)\n",
    "rf_params = {\n",
    "    'n_estimators': [50, 100],  # Reduced number of trees\n",
    "    'max_depth': [10, 20],  # Reduced depth range\n",
    "    'min_samples_split': [5, 10],  # Fewer split values\n",
    "    'min_samples_leaf': [2, 4]  # Fewer leaf values\n",
    "}\n",
    "\n",
    "# Initialize Randomized Search for Random Forest with fewer iterations and folds\n",
    "rf_random = RandomizedSearchCV(\n",
    "    RandomForestClassifier(random_state=42),\n",
    "    param_distributions=rf_params,\n",
    "    n_iter=10,  # Reduced number of random iterations\n",
    "    cv=3,  # Reduced cross-validation folds\n",
    "    scoring='accuracy',\n",
    "    verbose=1,  # Display progress\n",
    "    random_state=42\n",
    ")\n",
    "rf_random.fit(X_train_tfidf, y_train)\n",
    "\n",
    "print(\"\\nBest Random Forest Parameters (Random Search):\", rf_random.best_params_)\n",
    "print(\"Best Random Forest Accuracy (Random Search):\", rf_random.best_score_)"
   ]
  },
  {
   "cell_type": "markdown",
   "id": "75050313-0780-4322-98eb-5021910faaf3",
   "metadata": {},
   "source": [
    "## 7. Comparative Analysis\n",
    "- Compare the performance of all models based on evaluation metrics.\n",
    "- Identify strengths and weaknesses of each model (e.g., speed, accuracy, interpretability)."
   ]
  },
  {
   "cell_type": "code",
   "execution_count": 15,
   "id": "374b8a14-c830-4f93-ae92-fe3ee31b6bba",
   "metadata": {},
   "outputs": [
    {
     "name": "stdout",
     "output_type": "stream",
     "text": [
      "Comparing Model Performance:\n",
      "\n",
      "Evaluating Logistic Regression...\n",
      "Evaluating Random Forest...\n",
      "Evaluating SVM...\n",
      "Evaluating Naïve Bayes...\n",
      "Evaluating XGBoost...\n",
      "\n",
      "Model Performance Comparison:\n",
      "                 Model  Accuracy  Precision   Recall  F1-Score  \\\n",
      "2                  SVM   0.88600   0.883481  0.88600  0.884303   \n",
      "0  Logistic Regression   0.88850   0.885734  0.88850  0.883157   \n",
      "4              XGBoost   0.87450   0.870598  0.87450  0.867425   \n",
      "1        Random Forest   0.87075   0.867660  0.87075  0.861676   \n",
      "3          Naïve Bayes   0.85175   0.858752  0.85175  0.831023   \n",
      "\n",
      "   Training Time (seconds)  \n",
      "2                    0.045  \n",
      "0                    0.072  \n",
      "4                    0.099  \n",
      "1                    0.548  \n",
      "3                    0.062  \n",
      "\n",
      "Best Model:\n",
      "Model                           SVM\n",
      "Accuracy                      0.886\n",
      "Precision                  0.883481\n",
      "Recall                        0.886\n",
      "F1-Score                   0.884303\n",
      "Training Time (seconds)       0.045\n",
      "Name: 2, dtype: object\n"
     ]
    },
    {
     "data": {
      "image/png": "[encoded data removed]",
      "text/plain": [
       "<Figure size 1000x600 with 4 Axes>"
      ]
     },
     "metadata": {},
     "output_type": "display_data"
    }
   ],
   "source": [
    "from sklearn.metrics import accuracy_score, precision_score, recall_score, f1_score, classification_report\n",
    "import time\n",
    "import matplotlib.pyplot as plt\n",
    "import seaborn as sns\n",
    "import pandas as pd\n",
    "\n",
    "# Evaluate models on the test set\n",
    "evaluation_metrics = []\n",
    "\n",
    "print(\"Comparing Model Performance:\\n\")\n",
    "\n",
    "for name, model in trained_models.items():\n",
    "    print(f\"Evaluating {name}...\")\n",
    "    \n",
    "    # Start timing\n",
    "    start_time = time.time()\n",
    "    \n",
    "    # Make predictions\n",
    "    y_pred = model.predict(X_test_tfidf)\n",
    "    \n",
    "    # Calculate metrics\n",
    "    accuracy = accuracy_score(y_test, y_pred)\n",
    "    precision = precision_score(y_test, y_pred, average='weighted', zero_division=0)\n",
    "    recall = recall_score(y_test, y_pred, average='weighted', zero_division=0)\n",
    "    f1 = f1_score(y_test, y_pred, average='weighted', zero_division=0)\n",
    "    end_time = time.time()\n",
    "    \n",
    "    # Record evaluation metrics\n",
    "    evaluation_metrics.append({\n",
    "        \"Model\": name,\n",
    "        \"Accuracy\": accuracy,\n",
    "        \"Precision\": precision,\n",
    "        \"Recall\": recall,\n",
    "        \"F1-Score\": f1,\n",
    "        \"Training Time (seconds)\": round(end_time - start_time, 3)\n",
    "    })\n",
    "\n",
    "# Convert results to a DataFrame for better readability\n",
    "evaluation_df = pd.DataFrame(evaluation_metrics)\n",
    "evaluation_df = evaluation_df.sort_values(by=\"F1-Score\", ascending=False)\n",
    "\n",
    "# Display the evaluation results\n",
    "print(\"\\nModel Performance Comparison:\")\n",
    "print(evaluation_df)\n",
    "\n",
    "# Highlight the best-performing model\n",
    "best_model = evaluation_df.iloc[0]\n",
    "print(\"\\nBest Model:\")\n",
    "print(best_model)\n",
    "\n",
    "# Plotting the results\n",
    "# Set the plot size\n",
    "plt.figure(figsize=(10, 6))\n",
    "\n",
    "# Plot Accuracy\n",
    "plt.subplot(2, 2, 1)\n",
    "sns.barplot(x=\"Model\", y=\"Accuracy\", data=evaluation_df, palette='viridis')\n",
    "plt.title('Model Accuracy')\n",
    "\n",
    "# Plot Precision\n",
    "plt.subplot(2, 2, 2)\n",
    "sns.barplot(x=\"Model\", y=\"Precision\", data=evaluation_df, palette='viridis')\n",
    "plt.title('Model Precision')\n",
    "\n",
    "# Plot Recall\n",
    "plt.subplot(2, 2, 3)\n",
    "sns.barplot(x=\"Model\", y=\"Recall\", data=evaluation_df, palette='viridis')\n",
    "plt.title('Model Recall')\n",
    "\n",
    "# Plot F1-Score\n",
    "plt.subplot(2, 2, 4)\n",
    "sns.barplot(x=\"Model\", y=\"F1-Score\", data=evaluation_df, palette='viridis')\n",
    "plt.title('Model F1-Score')\n",
    "\n",
    "# Adjust layout for better spacing\n",
    "plt.tight_layout()\n",
    "plt.show()\n"
   ]
  },
  {
   "cell_type": "markdown",
   "id": "bf254f52",
   "metadata": {},
   "source": [
    "## 8. Conclusion & Comments\n",
    "- Summarize the findings of the project.\n",
    "- Provide insights into the challenges faced during data preprocessing, model training, and evaluation.\n",
    "- Highlight key lessons learned.\n",
    "- Add clear and concise comments to the code for each step of the project.\n",
    "- Highlight key results, visualizations, and model comparisons.\n"
   ]
  },
  {
   "cell_type": "code",
   "execution_count": 18,
   "id": "84acc7be-81ea-4ff5-9d4a-fe12e1e28c25",
   "metadata": {},
   "outputs": [
    {
     "data": {
      "image/png": "[encoded data removed]",
      "text/plain": [
       "<Figure size 800x600 with 2 Axes>"
      ]
     },
     "metadata": {},
     "output_type": "display_data"
    },
    {
     "name": "stdout",
     "output_type": "stream",
     "text": [
      "\n",
      "Best Model: SVM\n",
      "Accuracy: 0.89\n",
      "Precision: 0.88\n",
      "Recall: 0.89\n",
      "F1 Score: 0.88\n"
     ]
    }
   ],
   "source": [
    "# Confusion Matrix for Best Model\n",
    "best_model_name = evaluation_df.loc[evaluation_df['F1-Score'].idxmax(), 'Model']  # Get the model name with the highest F1-Score\n",
    "best_model = trained_models[best_model_name]  # Access the best model from trained_models using the model name\n",
    "y_pred_best = best_model.predict(X_test_tfidf)  # Predict using the best model\n",
    "\n",
    "# Generate the confusion matrix\n",
    "cm = confusion_matrix(y_test, y_pred_best)\n",
    "\n",
    "# Plot the confusion matrix\n",
    "plt.figure(figsize=(8, 6))\n",
    "sns.heatmap(cm, annot=True, fmt='d', cmap='Blues', xticklabels=['Negative', 'Positive'], yticklabels=['Negative', 'Positive'])\n",
    "plt.title(f'Confusion Matrix - {best_model_name}')\n",
    "plt.xlabel('Predicted')\n",
    "plt.ylabel('True')\n",
    "plt.show()\n",
    "\n",
    "# Conclusion\n",
    "print(f\"\\nBest Model: {best_model_name}\")\n",
    "print(f\"Accuracy: {evaluation_df.loc[evaluation_df['Model'] == best_model_name, 'Accuracy'].values[0]:.2f}\")\n",
    "print(f\"Precision: {evaluation_df.loc[evaluation_df['Model'] == best_model_name, 'Precision'].values[0]:.2f}\")\n",
    "print(f\"Recall: {evaluation_df.loc[evaluation_df['Model'] == best_model_name, 'Recall'].values[0]:.2f}\")\n",
    "print(f\"F1 Score: {evaluation_df.loc[evaluation_df['Model'] == best_model_name, 'F1-Score'].values[0]:.2f}\")\n",
    "\n",
    "\n"
   ]
  },
  {
   "cell_type": "raw",
   "id": "6e37e574-edc1-4424-bdcf-9653989d1d79",
   "metadata": {},
   "source": [
    "# Additional Insights:\n",
    "\"\"\"\n",
    "Summary of Findings:\n",
    "----------------------\n",
    "- The best-performing model based on the F1-Score is the {best_model_name}, with an F1-Score of {evaluation_df.loc[evaluation_df['Model'] == best_model_name, 'F1-Score'].values[0]:.2f}.\n",
    "- The confusion matrix shows that the model is making a balanced prediction with a relatively high True Positive rate.\n",
    "- Logistic Regression, while not the highest in F1-Score, performed well in terms of accuracy, indicating its reliability for this task.\n",
    "\n",
    "Challenges Faced:\n",
    "-----------------\n",
    "1. **Data Preprocessing**:\n",
    "   - The raw text data needed significant cleaning to remove noise such as punctuation and special characters.\n",
    "   - We also handled missing values, ensuring the dataset was complete and ready for model training.\n",
    "\n",
    "2. **Model Training**:\n",
    "   - Hyperparameter tuning and feature selection were crucial steps in improving model performance.\n",
    "   - The models exhibited varying performances, with more complex models (XGBoost, Random Forest) requiring more computational resources.\n",
    "\n",
    "3. **Evaluation**:\n",
    "   - Focusing on multiple evaluation metrics (Accuracy, Precision, Recall, F1-Score) provided a deeper understanding of model performance, especially when dealing with class imbalances.\n",
    "\n",
    "Key Lessons Learned:\n",
    "--------------------\n",
    "1. **Model Comparison**:\n",
    "   - It’s important to consider a wide range of evaluation metrics beyond just accuracy when comparing model performance, especially with imbalanced classes.\n",
    "   - While complex models such as XGBoost and Random Forest provide flexibility and performance, simpler models like Logistic Regression can be quite competitive in terms of accuracy and efficiency.\n",
    "\n",
    "2. **Feature Engineering**:\n",
    "   - Using TF-IDF for text data worked well, but more sophisticated approaches (e.g., BERT embeddings) might improve model performance further.\n",
    "   - Understanding the dataset and applying the right techniques for preprocessing plays a major role in model performance.\n",
    "\n",
    "Clear and Concise Code Comments:\n",
    "-------------------------------\n",
    "- **Confusion Matrix Generation**: The confusion matrix is plotted for the best model based on the F1-Score. This helps visualize how well the model is distinguishing between positive and negative classes.\n",
    "- **Performance Metrics**: The accuracy, precision, recall, and F1-Score for the best model are printed, giving a clear summary of its performance.\n",
    "- **Evaluation Insights**: The summary section emphasizes the key results and compares the best model against others, considering not only accuracy but also precision and recall.\n",
    "\n",
    "\"\"\"\n",
    "\n",
    "# Conclusion Summary is displayed via print statements and visualizations."
   ]
  }
 ],
 "metadata": {
  "kernelspec": {
   "display_name": "Python 3 (ipykernel)",
   "language": "python",
   "name": "python3"
  },
  "language_info": {
   "codemirror_mode": {
    "name": "ipython",
    "version": 3
   },
   "file_extension": ".py",
   "mimetype": "text/x-python",
   "name": "python",
   "nbconvert_exporter": "python",
   "pygments_lexer": "ipython3",
   "version": "3.12.3"
  }
 },
 "nbformat": 4,
 "nbformat_minor": 5
}
